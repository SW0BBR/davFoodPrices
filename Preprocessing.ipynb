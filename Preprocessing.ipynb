{
 "cells": [
  {
   "cell_type": "code",
   "execution_count": 41,
   "metadata": {},
   "outputs": [
    {
     "name": "stdout",
     "output_type": "stream",
     "text": [
      "[9.950e-321 9.955e-321 9.960e-321 9.965e-321 9.896e-321 9.901e-321\n",
      " 9.906e-321 9.911e-321 9.916e-321 9.921e-321 9.926e-321 9.931e-321\n",
      " 9.936e-321 9.941e-321 9.946e-321 9.881e-321 9.886e-321 9.891e-321\n",
      " 9.862e-321 9.866e-321 9.871e-321 9.876e-321 9.842e-321 9.847e-321\n",
      " 9.852e-321 9.857e-321]\n"
     ]
    },
    {
     "data": {
      "image/png": "[encoded data removed]",
      "text/plain": [
       "<matplotlib.figure.Figure at 0x7f8418ee0748>"
      ]
     },
     "metadata": {},
     "output_type": "display_data"
    }
   ],
   "source": [
    "import csv\n",
    "import pandas as pd\n",
    "import matplotlib.pyplot as plt\n",
    "import numpy as np\n",
    "\n",
    "# csv_reader = csv.reader(open('WFPVAM_FoodPrices_05-12-2017.csv'), delimiter = ',')\n",
    "# for row in csv_reader:\n",
    "#     print(row)\n",
    "    \n",
    "df = pd.read_csv('WFPVAM_FoodPrices_05-12-2017.csv', encoding='latin-1')\n",
    "\n",
    "df.rename(columns={'adm0_id': 'country_ID', 'adm0_name': 'country', 'adm1_id' : 'district_ID', \\\n",
    "                   'adm1_name' : 'district', 'mkt_id' : 'market_ID', 'mkt_name' : 'market' , \\\n",
    "                   'cm_id' : 'product_ID','cm_name' : '_product', 'cur_id' : 'currency_ID', \\\n",
    "                   'cur_name' : 'currency', 'pt_id' : 'sale_ID', 'pt_name' : 'sale', 'um_id' : 'unit_ID', \\\n",
    "                   'um_name' : 'unit', 'mp_month' : 'month', 'mp_year' : 'year', 'mp_price' : 'price', \\\n",
    "                   'mp_commoditysource' : 'source'}, inplace=True)\n",
    "\n",
    "\n",
    "afghan= df.loc[df['country'] == 'Afghanistan']\n",
    "fayza = afghan.loc[afghan['market'] == 'Fayzabad'].loc[afghan['year'] == 2014].loc[afghan['_product'] == 'Bread']\n",
    "\n",
    "years = np.sort(df.year.unique())\n",
    "countries = df.country.unique()\n",
    "districts = df.district.unique()\n",
    "\n",
    "\n",
    "countries_districts = {}\n",
    "for country in countries:\n",
    "    regions = df.loc[df['country'] == country].district.unique().tolist()\n",
    "#     print(country, regions)\n",
    "    countries_districts[country] = regions\n",
    "    \n",
    "\n",
    "means = np.empty(np.size(years))\n",
    "print(means)\n",
    "for i in range(len(years)):\n",
    "    year = years[i]\n",
    "    prices = df.loc[df['year'] == year].price\n",
    "    mean = np.mean(prices)\n",
    "    means[i] = mean\n",
    "\n",
    "plt.plot(years, means)\n",
    "plt.show()\n",
    "\n",
    "\n",
    "\n"
   ]
  },
  {
   "cell_type": "code",
   "execution_count": null,
   "metadata": {},
   "outputs": [],
   "source": []
  }
 ],
 "metadata": {
  "kernelspec": {
   "display_name": "Python 3",
   "language": "python",
   "name": "python3"
  },
  "language_info": {
   "codemirror_mode": {
    "name": "ipython",
    "version": 3
   },
   "file_extension": ".py",
   "mimetype": "text/x-python",
   "name": "python",
   "nbconvert_exporter": "python",
   "pygments_lexer": "ipython3",
   "version": "3.5.2"
  }
 },
 "nbformat": 4,
 "nbformat_minor": 2
}
